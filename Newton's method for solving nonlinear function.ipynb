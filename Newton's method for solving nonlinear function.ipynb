{
 "cells": [
  {
   "cell_type": "markdown",
   "metadata": {},
   "source": [
    "# 解非線性方程式的根\n",
    "\n",
    "## <font color=darkorange>牛頓法(Newton's Method)</font>\n",
    "\n",
    "### 曾正男\n",
    "#### 政治大學應用數學系"
   ]
  },
  {
   "cell_type": "markdown",
   "metadata": {},
   "source": [
    "範例：解 $f(x)=e^x-2x-2$ 的根"
   ]
  },
  {
   "cell_type": "code",
   "execution_count": 1,
   "metadata": {},
   "outputs": [
    {
     "name": "stdout",
     "output_type": "stream",
     "text": [
      "Populating the interactive namespace from numpy and matplotlib\n"
     ]
    }
   ],
   "source": [
    "%pylab inline"
   ]
  },
  {
   "cell_type": "code",
   "execution_count": 2,
   "metadata": {
    "collapsed": true
   },
   "outputs": [],
   "source": [
    "#定義函數\n",
    "def f(x):\n",
    "    return np.exp(x)-2*x-2"
   ]
  },
  {
   "cell_type": "code",
   "execution_count": 3,
   "metadata": {
    "collapsed": true
   },
   "outputs": [],
   "source": [
    "#定義導函數\n",
    "def df(x):\n",
    "    return np.exp(x)-2"
   ]
  },
  {
   "cell_type": "code",
   "execution_count": 4,
   "metadata": {
    "collapsed": true
   },
   "outputs": [],
   "source": [
    "def df2(x):\n",
    "    return np.exp(x)"
   ]
  },
  {
   "cell_type": "code",
   "execution_count": 6,
   "metadata": {},
   "outputs": [
    {
     "name": "stdout",
     "output_type": "stream",
     "text": [
      "1 1.89389589593\n",
      "2 1.70931520978\n",
      "3 1.6790908586\n",
      "4 1.67834743123\n",
      "5 1.67834699002\n",
      "6 1.67834699002\n",
      "7 1.67834699002\n"
     ]
    }
   ],
   "source": [
    "#牛頓法\n",
    "i = 0\n",
    "x1 = 3\n",
    "x2 = x1-f(x1)/df(x1)\n",
    "tol = 10**(-16)\n",
    "y = list()\n",
    "while abs(f(x2))>tol:\n",
    "    y.append(x2)\n",
    "    x1 = x2\n",
    "    x2 = x1-f(x1)/df(x1)\n",
    "    i+=1\n",
    "    print(i,x2)\n",
    "y.append(x2)    "
   ]
  },
  {
   "cell_type": "code",
   "execution_count": 7,
   "metadata": {
    "collapsed": true
   },
   "outputs": [],
   "source": [
    "xi = y[-1]"
   ]
  },
  {
   "cell_type": "code",
   "execution_count": 8,
   "metadata": {},
   "outputs": [
    {
     "data": {
      "text/plain": [
       "0.0"
      ]
     },
     "execution_count": 8,
     "metadata": {},
     "output_type": "execute_result"
    }
   ],
   "source": [
    "f(xi)"
   ]
  },
  {
   "cell_type": "code",
   "execution_count": 11,
   "metadata": {},
   "outputs": [
    {
     "data": {
      "text/plain": [
       "0.0"
      ]
     },
     "execution_count": 11,
     "metadata": {},
     "output_type": "execute_result"
    }
   ],
   "source": [
    "p = 6\n",
    "abs((y[p+1]-xi)/(y[p]-xi))"
   ]
  },
  {
   "cell_type": "code",
   "execution_count": 12,
   "metadata": {},
   "outputs": [
    {
     "name": "stdout",
     "output_type": "stream",
     "text": [
      "0 0.504864124853\n",
      "1 0.666537509842\n",
      "2 0.775646316375\n",
      "3 0.797361092435\n",
      "4 0.798441911415\n",
      "5 9191019647.69\n"
     ]
    }
   ],
   "source": [
    "for p in range(6):\n",
    "    print(p,abs((y[p+1]-xi)/(y[p]-xi)**2))"
   ]
  },
  {
   "cell_type": "code",
   "execution_count": 13,
   "metadata": {},
   "outputs": [
    {
     "name": "stdout",
     "output_type": "stream",
     "text": [
      "1 2.04826688305\n",
      "2 1.81083394097\n",
      "3 1.71009609471\n",
      "4 1.68146538032\n",
      "5 1.67842472771\n",
      "6 1.67834718316\n",
      "7 1.67834699003\n",
      "8 1.67834699002\n"
     ]
    }
   ],
   "source": [
    "#e\n",
    "i = 0\n",
    "x1 = 3\n",
    "x2 = 3.01\n",
    "x3 = x2-f(x2)*(x2-x1)/(f(x2)-f(x1))\n",
    "tol = 10**(-14)\n",
    "y = list([x1,x2])\n",
    "while abs(f(x3))>tol:\n",
    "    y.append(x3)\n",
    "    x1 = x2\n",
    "    x2 = x3\n",
    "    x3 = x2-f(x2)*(x2-x1)/(f(x2)-f(x1))\n",
    "    i+=1\n",
    "    print(i,x3)\n",
    "y.append(x3)    "
   ]
  },
  {
   "cell_type": "code",
   "execution_count": 14,
   "metadata": {},
   "outputs": [
    {
     "data": {
      "text/plain": [
       "[3,\n",
       " 3.01,\n",
       " 2.335459286015297,\n",
       " 2.0482668830501312,\n",
       " 1.8108339409655818,\n",
       " 1.7100960947129642,\n",
       " 1.6814653803212443,\n",
       " 1.6784247277140028,\n",
       " 1.6783471831568915,\n",
       " 1.6783469900286403,\n",
       " 1.6783469900166605]"
      ]
     },
     "execution_count": 14,
     "metadata": {},
     "output_type": "execute_result"
    }
   ],
   "source": [
    "y"
   ]
  },
  {
   "cell_type": "code",
   "execution_count": 15,
   "metadata": {
    "collapsed": true
   },
   "outputs": [],
   "source": [
    "xi = y[-1]"
   ]
  },
  {
   "cell_type": "code",
   "execution_count": 16,
   "metadata": {},
   "outputs": [
    {
     "name": "stdout",
     "output_type": "stream",
     "text": [
      "0 0.846635231954\n",
      "1 0.412694316493\n",
      "2 0.731578588723\n",
      "3 0.666141087889\n",
      "4 0.845906495614\n",
      "5 0.845509600303\n"
     ]
    }
   ],
   "source": [
    "for p in range(6):\n",
    "    print(p,abs((y[p+1]-xi)/(y[p]-xi)**1.624))"
   ]
  },
  {
   "cell_type": "markdown",
   "metadata": {},
   "source": [
    "<font color=red> 問：觀察一下牛頓法不同起始值的行為，是否起始值靠近解就保證會收斂？</font>"
   ]
  },
  {
   "cell_type": "markdown",
   "metadata": {},
   "source": [
    "試試看這一個起始值"
   ]
  },
  {
   "cell_type": "code",
   "execution_count": 17,
   "metadata": {
    "collapsed": true
   },
   "outputs": [],
   "source": [
    "x1 = 0.73196095298653452"
   ]
  },
  {
   "cell_type": "code",
   "execution_count": null,
   "metadata": {
    "collapsed": true
   },
   "outputs": [],
   "source": []
  }
 ],
 "metadata": {
  "kernelspec": {
   "display_name": "Python [default]",
   "language": "python",
   "name": "python3"
  },
  "language_info": {
   "codemirror_mode": {
    "name": "ipython",
    "version": 3
   },
   "file_extension": ".py",
   "mimetype": "text/x-python",
   "name": "python",
   "nbconvert_exporter": "python",
   "pygments_lexer": "ipython3",
   "version": "3.6.3"
  }
 },
 "nbformat": 4,
 "nbformat_minor": 2
}
